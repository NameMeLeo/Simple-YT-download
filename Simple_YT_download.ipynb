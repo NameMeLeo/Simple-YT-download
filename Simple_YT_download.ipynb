{
  "nbformat": 4,
  "nbformat_minor": 0,
  "metadata": {
    "colab": {
      "provenance": [],
      "authorship_tag": "ABX9TyO5jRWGl4yBuhuxAAc9mnRv",
      "include_colab_link": true
    },
    "kernelspec": {
      "name": "python3",
      "display_name": "Python 3"
    },
    "language_info": {
      "name": "python"
    }
  },
  "cells": [
    {
      "cell_type": "markdown",
      "metadata": {
        "id": "view-in-github",
        "colab_type": "text"
      },
      "source": [
        "<a href=\"https://colab.research.google.com/github/NameMeLeo/Simple-YT-download/blob/main/Simple_YT_download.ipynb\" target=\"_parent\"><img src=\"https://colab.research.google.com/assets/colab-badge.svg\" alt=\"Open In Colab\"/></a>"
      ]
    },
    {
      "cell_type": "code",
      "execution_count": 4,
      "metadata": {
        "id": "JRsptqeH0S73",
        "colab": {
          "base_uri": "https://localhost:8080/"
        },
        "outputId": "70c2063e-ae29-4232-cb90-19c26a1ad573",
        "cellView": "form"
      },
      "outputs": [
        {
          "output_type": "stream",
          "name": "stdout",
          "text": [
            "Colab notebook detected. To show errors in colab notebook, set debug=True in launch()\n",
            "Running on public URL: https://3c4f6c98e10cf8ad18.gradio.live\n",
            "\n",
            "This share link expires in 72 hours. For free permanent hosting and GPU upgrades, run `gradio deploy` from Terminal to deploy to Spaces (https://huggingface.co/spaces)\n"
          ]
        },
        {
          "output_type": "execute_result",
          "data": {
            "text/plain": []
          },
          "metadata": {},
          "execution_count": 4
        }
      ],
      "source": [
        "# @markdown Press the play buton on left to run this cell, then click on the share link\n",
        "!pip install -q gradio==4.44.1 pytubefix python-multipart==0.0.12\n",
        "import gradio as gr\n",
        "from pytubefix import YouTube\n",
        "import pandas as pd\n",
        "import os, zipfile\n",
        "from datetime import datetime\n",
        "\n",
        "def download_video(url):\n",
        "    try:\n",
        "        yt = YouTube(url)\n",
        "        stream = yt.streams.get_highest_resolution()\n",
        "        file_path = stream.download()\n",
        "        return file_path  # Return the path for single download\n",
        "    except Exception as e:\n",
        "        return str(e)\n",
        "\n",
        "#create a temporary directory to store the downloaded videos then zip it\n",
        "def download_videos(urls):\n",
        "    zip_filename = datetime.now().strftime('%H%M%S') + '.zip'\n",
        "    with zipfile.ZipFile(zip_filename, 'w') as zipf:\n",
        "        for url in urls:\n",
        "            try:\n",
        "                yt = YouTube(url)\n",
        "                stream = yt.streams.get_highest_resolution()\n",
        "                file_path = stream.download()\n",
        "                zipf.write(file_path, os.path.basename(file_path))\n",
        "                os.remove(file_path)  # Remove the file after adding to zip\n",
        "            except Exception as e:\n",
        "                print(f\"Error downloading {url}: {e}\")\n",
        "    return zip_filename\n",
        "\n",
        "def process_file(file_path):\n",
        "    if file_path.name.endswith('.txt'):\n",
        "        with open(file_path.name, 'r') as f:\n",
        "            urls = f.read().splitlines()\n",
        "    elif file_path.name.endswith(('.xls', '.xlsx')):\n",
        "        df = pd.read_excel(file_path.name)\n",
        "        urls = df.iloc[:, 0].tolist()  # Assuming URLs are in the first column\n",
        "    else:\n",
        "        return \"Unsupported file type.\"\n",
        "\n",
        "    return download_videos(urls)\n",
        "\n",
        "with gr.Blocks(title='YouTube Video Downloader') as demo:\n",
        "    gr.Markdown(\"# YouTube Video Downloader\")\n",
        "    gr.Markdown(\"Paste a YouTube link or upload a .txt file containing links to download videos.\")\n",
        "\n",
        "    with gr.Tab('Simple download'):\n",
        "      url_input = gr.Textbox(label=\"YouTube URL\", placeholder=\"Enter a single YouTube URL\")\n",
        "      download_button = gr.Button(\"Download Video\")\n",
        "    with gr.Tab('Batch download'):\n",
        "      upload_input = gr.File(label=\"Upload .txt file\", file_types=['.txt'])\n",
        "      upload_button = gr.Button(\"Download All Videos\")\n",
        "\n",
        "    output = gr.File(label=\"Video Download\")\n",
        "    download_button.click(download_video, inputs=url_input, outputs=output)\n",
        "    upload_button.click(process_file, inputs=upload_input, outputs=output)\n",
        "\n",
        "demo.launch(share=True, inline=False)"
      ]
    },
    {
      "cell_type": "code",
      "source": [],
      "metadata": {
        "id": "IWjZKHtMbdT9"
      },
      "execution_count": null,
      "outputs": []
    }
  ]
}